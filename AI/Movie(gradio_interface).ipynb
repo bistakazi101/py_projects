{
 "cells": [
  {
   "cell_type": "code",
   "execution_count": 1,
   "metadata": {},
   "outputs": [
    {
     "name": "stderr",
     "output_type": "stream",
     "text": [
      "/home/saga/.local/lib/python3.10/site-packages/tqdm/auto.py:21: TqdmWarning: IProgress not found. Please update jupyter and ipywidgets. See https://ipywidgets.readthedocs.io/en/stable/user_install.html\n",
      "  from .autonotebook import tqdm as notebook_tqdm\n"
     ]
    },
    {
     "name": "stdout",
     "output_type": "stream",
     "text": [
      "Running on local URL:  http://127.0.0.1:7860\n",
      "\n",
      "To create a public link, set `share=True` in `launch()`.\n"
     ]
    },
    {
     "data": {
      "text/html": [
       "<div><iframe src=\"http://127.0.0.1:7860/\" width=\"100%\" height=\"500\" allow=\"autoplay; camera; microphone; clipboard-read; clipboard-write;\" frameborder=\"0\" allowfullscreen></iframe></div>"
      ],
      "text/plain": [
       "<IPython.core.display.HTML object>"
      ]
     },
     "metadata": {},
     "output_type": "display_data"
    },
    {
     "data": {
      "text/plain": []
     },
     "execution_count": 1,
     "metadata": {},
     "output_type": "execute_result"
    }
   ],
   "source": [
    "import numpy as np\n",
    "import pandas as pd\n",
    "import difflib\n",
    "from sklearn.feature_extraction.text import TfidfVectorizer\n",
    "from sklearn.metrics.pairwise import cosine_similarity\n",
    "import gradio as gr\n",
    "# Loading and Preprocessing\n",
    "movie_data = pd.read_csv(\"/home/saga/Documents/python8sem/movies.csv\")\n",
    "\n",
    "selected_features = ['genres', 'keywords', 'tagline', 'cast', 'director']\n",
    "for feature in selected_features:\n",
    "    movie_data[feature] = movie_data[feature].fillna('')\n",
    "\n",
    "combined_features = movie_data['genres'] + '' + movie_data['keywords'] + '' + movie_data['tagline'] + '' + movie_data['cast'] + '' + movie_data['director']\n",
    "\n",
    "vectorizer = TfidfVectorizer()\n",
    "feature_vectors = vectorizer.fit_transform(combined_features)\n",
    "similarity = cosine_similarity(feature_vectors)\n",
    "\n",
    "def recommend_movie(movie_name):\n",
    "    # Find the closest match to the input movie name\n",
    "    find_close_match = difflib.get_close_matches(movie_name, movie_data['title'].tolist())\n",
    "    close_match = find_close_match[0] if find_close_match else None\n",
    "    \n",
    "    if close_match:\n",
    "        index_of_the_movie = movie_data[movie_data.title == close_match]['index'].values[0]\n",
    "        similarity_score = list(enumerate(similarity[index_of_the_movie]))\n",
    "        sorted_similar_movies = sorted(similarity_score, key=lambda x: x[1], reverse=True)\n",
    "        recommended_movies = [movie_data.iloc[movie[0]]['title'] for movie in sorted_similar_movies[:10]]\n",
    "        return recommended_movies\n",
    "    else:\n",
    "        return [\"No close match found for '{}'\".format(movie_name)]\n",
    "\n",
    "# Create a Gradio interface\n",
    "iface = gr.Interface(fn=recommend_movie, inputs=\"text\", outputs=\"text\", title=\"Movie Recommendation System\", description=\"Enter the name of your favorite movie and get recommendations for similar movies.\")\n",
    "iface.launch()\n"
   ]
  }
 ],
 "metadata": {
  "kernelspec": {
   "display_name": "Python 3",
   "language": "python",
   "name": "python3"
  },
  "language_info": {
   "codemirror_mode": {
    "name": "ipython",
    "version": 3
   },
   "file_extension": ".py",
   "mimetype": "text/x-python",
   "name": "python",
   "nbconvert_exporter": "python",
   "pygments_lexer": "ipython3",
   "version": "3.10.12"
  }
 },
 "nbformat": 4,
 "nbformat_minor": 2
}
